{
 "cells": [
  {
   "cell_type": "code",
   "execution_count": 7,
   "id": "04cd0a15",
   "metadata": {},
   "outputs": [
    {
     "name": "stdout",
     "output_type": "stream",
     "text": [
      "Next word predictions for 'language':\n",
      "processing: 0.5000\n",
      ".: 0.5000\n"
     ]
    },
    {
     "name": "stderr",
     "output_type": "stream",
     "text": [
      "[nltk_data] Downloading package punkt to\n",
      "[nltk_data]     C:\\Users\\Welcome\\AppData\\Roaming\\nltk_data...\n",
      "[nltk_data]   Package punkt is already up-to-date!\n"
     ]
    }
   ],
   "source": [
    "import nltk\n",
    "from nltk.util import ngrams\n",
    "from collections import Counter, defaultdict\n",
    "import re\n",
    "\n",
    "nltk.download('punkt')\n",
    "\n",
    "text = \"\"\"\n",
    "Natural language processing (NLP) is a machine learning technology that gives computers the ability to interpret, manipulate, \n",
    "and comprehend human language.\n",
    "\"\"\"\n",
    "\n",
    "def tokenize(text):\n",
    "    text = text.lower()\n",
    "    words = nltk.word_tokenize(text)\n",
    "    return words\n",
    "\n",
    "def compute_bigram_model(tokens):\n",
    "    bigrams = ngrams(tokens, 2)\n",
    "    bigram_counts = Counter(bigrams)\n",
    "    unigram_counts = Counter(tokens)\n",
    "    \n",
    "    bigram_model = defaultdict(lambda: defaultdict(float))\n",
    "    \n",
    "    for (word1, word2), count in bigram_counts.items():\n",
    "        bigram_model[word1][word2] = count / unigram_counts[word1]\n",
    "        \n",
    "    return bigram_model\n",
    "\n",
    "def predict_next_word(bigram_model, word):\n",
    "    if word in bigram_model:\n",
    "        next_words = bigram_model[word]\n",
    "        sorted_next_words = sorted(next_words.items(), key=lambda x: x[1], reverse=True)\n",
    "        return sorted_next_words\n",
    "    else:\n",
    "        return []\n",
    "\n",
    "tokens = tokenize(text)\n",
    "\n",
    "bigram_model = compute_bigram_model(tokens)\n",
    "\n",
    "input_word = \"language\"\n",
    "predictions = predict_next_word(bigram_model, input_word)\n",
    "\n",
    "print(f\"Next word predictions for '{input_word}':\")\n",
    "for next_word, prob in predictions:\n",
    "    print(f\"{next_word}: {prob:.4f}\")\n"
   ]
  },
  {
   "cell_type": "code",
   "execution_count": null,
   "id": "a4e15bd1",
   "metadata": {},
   "outputs": [],
   "source": []
  }
 ],
 "metadata": {
  "kernelspec": {
   "display_name": "Python 3 (ipykernel)",
   "language": "python",
   "name": "python3"
  },
  "language_info": {
   "codemirror_mode": {
    "name": "ipython",
    "version": 3
   },
   "file_extension": ".py",
   "mimetype": "text/x-python",
   "name": "python",
   "nbconvert_exporter": "python",
   "pygments_lexer": "ipython3",
   "version": "3.11.4"
  }
 },
 "nbformat": 4,
 "nbformat_minor": 5
}
