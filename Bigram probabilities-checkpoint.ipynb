{
 "cells": [
  {
   "cell_type": "code",
   "execution_count": 2,
   "id": "424c3f82",
   "metadata": {
    "scrolled": false
   },
   "outputs": [
    {
     "name": "stdout",
     "output_type": "stream",
     "text": [
      "Bigram Probabilities:\n",
      "P(language|natural) = 1.0000\n",
      "P(processing|language) = 0.5000\n",
      "P((|processing) = 1.0000\n",
      "P(nlp|() = 1.0000\n",
      "P()|nlp) = 1.0000\n",
      "P(is|)) = 1.0000\n",
      "P(a|is) = 1.0000\n",
      "P(machine|a) = 1.0000\n",
      "P(learning|machine) = 1.0000\n",
      "P(technology|learning) = 1.0000\n",
      "P(that|technology) = 1.0000\n",
      "P(gives|that) = 1.0000\n",
      "P(computers|gives) = 1.0000\n",
      "P(the|computers) = 1.0000\n",
      "P(ability|the) = 1.0000\n",
      "P(to|ability) = 1.0000\n",
      "P(interpret|to) = 1.0000\n",
      "P(,|interpret) = 1.0000\n",
      "P(manipulate|,) = 0.5000\n",
      "P(,|manipulate) = 1.0000\n",
      "P(and|,) = 0.5000\n",
      "P(comprehend|and) = 1.0000\n",
      "P(human|comprehend) = 1.0000\n",
      "P(language|human) = 1.0000\n",
      "P(.|language) = 0.5000\n"
     ]
    },
    {
     "name": "stderr",
     "output_type": "stream",
     "text": [
      "[nltk_data] Downloading package punkt to\n",
      "[nltk_data]     C:\\Users\\Welcome\\AppData\\Roaming\\nltk_data...\n",
      "[nltk_data]   Package punkt is already up-to-date!\n"
     ]
    }
   ],
   "source": [
    "import nltk\n",
    "from nltk.util import ngrams\n",
    "from collections import Counter\n",
    "import re\n",
    "\n",
    "nltk.download('punkt')\n",
    "\n",
    "text = \"\"\"\n",
    "Natural language processing (NLP) is a machine learning technology that gives computers the ability to interpret, manipulate, \n",
    "and comprehend human language.\n",
    "\"\"\"\n",
    "\n",
    "def tokenize(text):\n",
    "    text = text.lower()\n",
    "    words = nltk.word_tokenize(text)\n",
    "    return words\n",
    "\n",
    "def compute_bigram_probabilities(tokens):\n",
    "    bigrams = ngrams(tokens, 2)\n",
    "    bigram_counts = Counter(bigrams)\n",
    "    unigram_counts = Counter(tokens)\n",
    "    \n",
    "    bigram_probabilities = {}\n",
    "    \n",
    "    for (word1, word2), count in bigram_counts.items():\n",
    "        unigram_count = unigram_counts[word1]\n",
    "        if unigram_count > 0:\n",
    "            bigram_probabilities[(word1, word2)] = count / unigram_count\n",
    "            \n",
    "    return bigram_probabilities\n",
    "\n",
    "tokens = tokenize(text)\n",
    "\n",
    "bigram_probabilities = compute_bigram_probabilities(tokens)\n",
    "\n",
    "print(\"Bigram Probabilities:\")\n",
    "for (word1, word2), prob in bigram_probabilities.items():\n",
    "    print(f\"P({word2}|{word1}) = {prob:.4f}\")\n"
   ]
  },
  {
   "cell_type": "code",
   "execution_count": null,
   "id": "42026b23",
   "metadata": {},
   "outputs": [],
   "source": []
  }
 ],
 "metadata": {
  "kernelspec": {
   "display_name": "Python 3 (ipykernel)",
   "language": "python",
   "name": "python3"
  },
  "language_info": {
   "codemirror_mode": {
    "name": "ipython",
    "version": 3
   },
   "file_extension": ".py",
   "mimetype": "text/x-python",
   "name": "python",
   "nbconvert_exporter": "python",
   "pygments_lexer": "ipython3",
   "version": "3.11.4"
  }
 },
 "nbformat": 4,
 "nbformat_minor": 5
}
