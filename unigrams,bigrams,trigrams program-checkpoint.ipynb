{
 "cells": [
  {
   "cell_type": "code",
   "execution_count": 8,
   "id": "b11cfa32",
   "metadata": {
    "scrolled": true
   },
   "outputs": [
    {
     "name": "stdout",
     "output_type": "stream",
     "text": [
      "Requirement already satisfied: nltk in c:\\users\\welcome\\anaconda3\\lib\\site-packages (3.8.1)\n",
      "Requirement already satisfied: click in c:\\users\\welcome\\anaconda3\\lib\\site-packages (from nltk) (8.0.4)\n",
      "Requirement already satisfied: joblib in c:\\users\\welcome\\anaconda3\\lib\\site-packages (from nltk) (1.2.0)\n",
      "Requirement already satisfied: regex>=2021.8.3 in c:\\users\\welcome\\anaconda3\\lib\\site-packages (from nltk) (2022.7.9)\n",
      "Requirement already satisfied: tqdm in c:\\users\\welcome\\anaconda3\\lib\\site-packages (from nltk) (4.65.0)\n",
      "Requirement already satisfied: colorama in c:\\users\\welcome\\anaconda3\\lib\\site-packages (from click->nltk) (0.4.6)\n",
      "Note: you may need to restart the kernel to use updated packages.\n"
     ]
    }
   ],
   "source": [
    "pip install nltk\n"
   ]
  },
  {
   "cell_type": "code",
   "execution_count": 9,
   "id": "a9ab4a35",
   "metadata": {
    "scrolled": false
   },
   "outputs": [
    {
     "name": "stdout",
     "output_type": "stream",
     "text": [
      "Unigrams and their counts:\n",
      "natural: 1\n",
      "language: 2\n",
      "processing: 1\n",
      "(: 1\n",
      "nlp: 1\n",
      "): 1\n",
      "is: 1\n",
      "a: 1\n",
      "machine: 1\n",
      "learning: 1\n",
      "technology: 1\n",
      "that: 1\n",
      "gives: 1\n",
      "computers: 1\n",
      "the: 1\n",
      "ability: 1\n",
      "to: 1\n",
      "interpret: 1\n",
      ",: 2\n",
      "manipulate: 1\n",
      "and: 1\n",
      "comprehend: 1\n",
      "human: 1\n",
      ".: 1\n",
      "\n",
      "Bigrams and their counts:\n",
      "natural language: 1\n",
      "language processing: 1\n",
      "processing (: 1\n",
      "( nlp: 1\n",
      "nlp ): 1\n",
      ") is: 1\n",
      "is a: 1\n",
      "a machine: 1\n",
      "machine learning: 1\n",
      "learning technology: 1\n",
      "technology that: 1\n",
      "that gives: 1\n",
      "gives computers: 1\n",
      "computers the: 1\n",
      "the ability: 1\n",
      "ability to: 1\n",
      "to interpret: 1\n",
      "interpret ,: 1\n",
      ", manipulate: 1\n",
      "manipulate ,: 1\n",
      ", and: 1\n",
      "and comprehend: 1\n",
      "comprehend human: 1\n",
      "human language: 1\n",
      "language .: 1\n",
      "\n",
      "Trigrams and their counts:\n",
      "natural language processing: 1\n",
      "language processing (: 1\n",
      "processing ( nlp: 1\n",
      "( nlp ): 1\n",
      "nlp ) is: 1\n",
      ") is a: 1\n",
      "is a machine: 1\n",
      "a machine learning: 1\n",
      "machine learning technology: 1\n",
      "learning technology that: 1\n",
      "technology that gives: 1\n",
      "that gives computers: 1\n",
      "gives computers the: 1\n",
      "computers the ability: 1\n",
      "the ability to: 1\n",
      "ability to interpret: 1\n",
      "to interpret ,: 1\n",
      "interpret , manipulate: 1\n",
      ", manipulate ,: 1\n",
      "manipulate , and: 1\n",
      ", and comprehend: 1\n",
      "and comprehend human: 1\n",
      "comprehend human language: 1\n",
      "human language .: 1\n"
     ]
    },
    {
     "name": "stderr",
     "output_type": "stream",
     "text": [
      "[nltk_data] Downloading package punkt to\n",
      "[nltk_data]     C:\\Users\\Welcome\\AppData\\Roaming\\nltk_data...\n",
      "[nltk_data]   Package punkt is already up-to-date!\n"
     ]
    }
   ],
   "source": [
    "import nltk\n",
    "from nltk.util import ngrams\n",
    "from collections import Counter\n",
    "import re\n",
    " \n",
    "nltk.download('punkt')\n",
    "\n",
    "text = \"\"\"\n",
    "Natural language processing (NLP) is a machine learning technology that gives computers the ability to interpret, manipulate, \n",
    "and comprehend human language.\n",
    "\"\"\"\n",
    "\n",
    "def tokenize(text):\n",
    "    text = text.lower()\n",
    "    words = nltk.word_tokenize(text)\n",
    "    return words\n",
    "\n",
    "def compute_ngrams(tokens, n):\n",
    "    n_grams = ngrams(tokens, n)\n",
    "    return Counter(n_grams)\n",
    "\n",
    "tokens = tokenize(text)\n",
    "\n",
    "unigrams = compute_ngrams(tokens, 1)\n",
    "bigrams = compute_ngrams(tokens, 2)\n",
    "trigrams = compute_ngrams(tokens, 3)\n",
    "\n",
    "print(\"Unigrams and their counts:\")\n",
    "for unigram, count in unigrams.items():\n",
    "    print(f\"{unigram[0]}: {count}\")\n",
    "\n",
    "print(\"\\nBigrams and their counts:\")\n",
    "for bigram, count in bigrams.items():\n",
    "    print(f\"{bigram[0]} {bigram[1]}: {count}\")\n",
    "\n",
    "print(\"\\nTrigrams and their counts:\")\n",
    "for trigram, count in trigrams.items():\n",
    "    print(f\"{trigram[0]} {trigram[1]} {trigram[2]}: {count}\")\n"
   ]
  },
  {
   "cell_type": "code",
   "execution_count": null,
   "id": "84bd43ad",
   "metadata": {},
   "outputs": [],
   "source": []
  }
 ],
 "metadata": {
  "kernelspec": {
   "display_name": "Python 3 (ipykernel)",
   "language": "python",
   "name": "python3"
  },
  "language_info": {
   "codemirror_mode": {
    "name": "ipython",
    "version": 3
   },
   "file_extension": ".py",
   "mimetype": "text/x-python",
   "name": "python",
   "nbconvert_exporter": "python",
   "pygments_lexer": "ipython3",
   "version": "3.11.4"
  }
 },
 "nbformat": 4,
 "nbformat_minor": 5
}
